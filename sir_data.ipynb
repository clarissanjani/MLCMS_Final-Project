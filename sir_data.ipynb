{
 "cells": [
  {
   "cell_type": "markdown",
   "metadata": {},
   "source": [
    "## SIR model"
   ]
  },
  {
   "cell_type": "markdown",
   "metadata": {},
   "source": [
    "The original data set contains several columns. For us only the 'Confirmed', 'Fatal' and 'Recovered' columns are of interest. As a first step we map the data set to fit the SIR model as described belows. For this we take into account the total population of Japans which is around $125*10^6$"
   ]
  },
  {
   "cell_type": "markdown",
   "metadata": {},
   "source": [
    "- S: Susceptible (= Population - Confirmed)\n",
    "- I: Infected (=Confirmed - Recovered - Fatal)\n",
    "- R: Recovered or Fatal (= Recovered + Fatal)"
   ]
  },
  {
   "cell_type": "code",
   "execution_count": null,
   "metadata": {},
   "outputs": [],
   "source": [
    "from data import *"
   ]
  },
  {
   "cell_type": "code",
   "execution_count": 2,
   "metadata": {},
   "outputs": [],
   "source": [
    "data = prepare_csv('data/covid_japan.csv')"
   ]
  },
  {
   "cell_type": "code",
   "execution_count": 3,
   "metadata": {},
   "outputs": [
    {
     "name": "stdout",
     "output_type": "stream",
     "text": [
      "       Susceptible  Infected  Recovered\n",
      "0        124999975      21.0        4.0\n",
      "1        124999975      21.0        4.0\n",
      "2        124999974      17.0        9.0\n",
      "3        124999972      18.0       10.0\n",
      "4        124999971      18.0       11.0\n",
      "...            ...       ...        ...\n",
      "36623    124934837    4534.0    60629.0\n",
      "36624    124966950    2742.0    30308.0\n",
      "36625    124973498    2604.0    23898.0\n",
      "36626    124954564    5813.0    39623.0\n",
      "36627    124875361    7667.0   116972.0\n",
      "\n",
      "[36628 rows x 3 columns]\n"
     ]
    }
   ],
   "source": [
    "print(data)"
   ]
  },
  {
   "cell_type": "code",
   "execution_count": null,
   "metadata": {},
   "outputs": [],
   "source": []
  }
 ],
 "metadata": {
  "kernelspec": {
   "display_name": "Python 3",
   "language": "python",
   "name": "python3"
  },
  "language_info": {
   "codemirror_mode": {
    "name": "ipython",
    "version": 3
   },
   "file_extension": ".py",
   "mimetype": "text/x-python",
   "name": "python",
   "nbconvert_exporter": "python",
   "pygments_lexer": "ipython3",
   "version": "3.7.6"
  }
 },
 "nbformat": 4,
 "nbformat_minor": 4
}
