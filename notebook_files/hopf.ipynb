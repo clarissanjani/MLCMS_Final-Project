{
 "cells": [
  {
   "cell_type": "markdown",
   "id": "2c8e2cd9",
   "metadata": {},
   "source": [
    "## Import dependencies"
   ]
  },
  {
   "cell_type": "markdown",
   "id": "89d88f67-9eeb-4f12-9757-04d4d9049d8d",
   "metadata": {},
   "source": [
    "## Adapt the path"
   ]
  },
  {
   "cell_type": "code",
   "execution_count": 1,
   "id": "3ead1ac7-22cb-4354-bd81-ee03b435819d",
   "metadata": {},
   "outputs": [],
   "source": [
    "import os\n",
    "import sys\n",
    "nb_dir = os.path.split(os.getcwd())[0]\n",
    "if nb_dir not in sys.path:\n",
    "    sys.path.append(nb_dir)"
   ]
  },
  {
   "cell_type": "code",
   "execution_count": 2,
   "id": "50e503fa",
   "metadata": {},
   "outputs": [],
   "source": [
    "from src.integration import *\n",
    "from src.model import *\n",
    "from src.bifurcation import *\n",
    "from scipy.integrate import solve_ivp\n",
    "import matplotlib.pyplot as plt\n",
    "import matplotlib.gridspec as gridspec"
   ]
  },
  {
   "cell_type": "markdown",
   "id": "b9cfc363-6541-4019-9279-268c7b4940db",
   "metadata": {},
   "source": [
    "## Hopf Bifurcation"
   ]
  },
  {
   "cell_type": "code",
   "execution_count": 3,
   "id": "b9713323-0c80-4743-8be3-6724fdfd2f3a",
   "metadata": {},
   "outputs": [],
   "source": [
    "t_0 = 0\n",
    "t_end = 200\n",
    "\n",
    "beta=11.5\n",
    "A=20\n",
    "d=0.1\n",
    "nu=1\n",
    "b=0.022\n",
    "mu0 = 10      \n",
    "mu1 = 10.45\n",
    "y0 = [195.3, 0.052, 4.4]\n",
    "\n",
    "t = np.linspace(t_0, t_end, 3000)\n",
    "\n",
    "model = SIR(t_0, t_end, beta, A, d, nu, b, mu0, mu1)\n",
    "\n",
    "X, infodict = integrate.odeint(model.integration_model, y0, t, full_output=True)"
   ]
  },
  {
   "cell_type": "code",
   "execution_count": 4,
   "id": "aa6c4ae7-2b4c-4957-ad30-39665ca19e45",
   "metadata": {},
   "outputs": [],
   "source": [
    "#for i in X:\n",
    "#    new_X.append([i[0],i[1]])"
   ]
  },
  {
   "cell_type": "code",
   "execution_count": 5,
   "id": "d9d40921-e66f-4863-93ec-1189e89e3d42",
   "metadata": {},
   "outputs": [],
   "source": [
    "# x,y = np.array(new_X).T"
   ]
  },
  {
   "cell_type": "code",
   "execution_count": 6,
   "id": "1a9af6dc-5f78-4f95-81cc-8716e6e03b96",
   "metadata": {},
   "outputs": [
    {
     "ename": "NameError",
     "evalue": "name 'R' is not defined",
     "output_type": "error",
     "traceback": [
      "\u001b[0;31m---------------------------------------------------------------------------\u001b[0m",
      "\u001b[0;31mNameError\u001b[0m                                 Traceback (most recent call last)",
      "Input \u001b[0;32mIn [6]\u001b[0m, in \u001b[0;36m<cell line: 7>\u001b[0;34m()\u001b[0m\n\u001b[1;32m      4\u001b[0m i,s \u001b[38;5;241m=\u001b[39m I[:,\u001b[38;5;241m0\u001b[39m], S[\u001b[38;5;241m0\u001b[39m,:]\n\u001b[1;32m      6\u001b[0m \u001b[38;5;66;03m# Andronov_Hopf normal form   \u001b[39;00m\n\u001b[0;32m----> 7\u001b[0m dSdt \u001b[38;5;241m=\u001b[39m A \u001b[38;5;241m-\u001b[39m d \u001b[38;5;241m*\u001b[39m S \u001b[38;5;241m-\u001b[39m (beta \u001b[38;5;241m*\u001b[39m S \u001b[38;5;241m*\u001b[39m I) \u001b[38;5;241m/\u001b[39m (S \u001b[38;5;241m+\u001b[39m I \u001b[38;5;241m+\u001b[39m \u001b[43mR\u001b[49m)\n\u001b[1;32m      8\u001b[0m dIdt \u001b[38;5;241m=\u001b[39m \u001b[38;5;241m-\u001b[39m (d \u001b[38;5;241m+\u001b[39m nu) \u001b[38;5;241m*\u001b[39m I \u001b[38;5;241m-\u001b[39m m \u001b[38;5;241m*\u001b[39m I \u001b[38;5;241m+\u001b[39m (beta \u001b[38;5;241m*\u001b[39m S \u001b[38;5;241m*\u001b[39m I) \u001b[38;5;241m/\u001b[39m (S \u001b[38;5;241m+\u001b[39m I \u001b[38;5;241m+\u001b[39m R)\n",
      "\u001b[0;31mNameError\u001b[0m: name 'R' is not defined"
     ]
    }
   ],
   "source": [
    "#S, I = np.linspace(2,2, 100), np.linspace(2,2, 100)\n",
    "w = 3\n",
    "I, S = np.mgrid[-w:w:100j, -w:w:100j]\n",
    "i,s = I[:,0], S[0,:]\n",
    "\n",
    "# Andronov_Hopf normal form   \n",
    "dSdt = A - d * S - (beta * S * I) / (S + I + R)\n",
    "dIdt = - (d + nu) * I - m * I + (beta * S * I) / (S + I + R)"
   ]
  },
  {
   "cell_type": "code",
   "execution_count": null,
   "id": "993c81c7-a32f-42c2-9a29-4f4f2a6d957e",
   "metadata": {},
   "outputs": [],
   "source": [
    "fig = plt.figure(figsize=(10, 20))\n",
    "gs = gridspec.GridSpec(nrows=3, ncols=2, height_ratios=[1, 1, 2])\n",
    "\n",
    "#  Varying density along a streamline\n",
    "ax0 = fig.add_subplot(gs[0, 0])\n",
    "ax0.streamplot(s, i, dSdt, dIdt, density=[1])\n",
    "ax0.set_title('Hopf Bifurcation')"
   ]
  },
  {
   "cell_type": "code",
   "execution_count": 7,
   "id": "13e5b9f9-6b17-41d0-95b3-52737b9677f7",
   "metadata": {},
   "outputs": [
    {
     "ename": "NameError",
     "evalue": "name 'R' is not defined",
     "output_type": "error",
     "traceback": [
      "\u001b[0;31m---------------------------------------------------------------------------\u001b[0m",
      "\u001b[0;31mNameError\u001b[0m                                 Traceback (most recent call last)",
      "Input \u001b[0;32mIn [7]\u001b[0m, in \u001b[0;36m<cell line: 5>\u001b[0;34m()\u001b[0m\n\u001b[1;32m      3\u001b[0m I, S \u001b[38;5;241m=\u001b[39m np\u001b[38;5;241m.\u001b[39mmgrid[\u001b[38;5;241m-\u001b[39mw:w:\u001b[38;5;241m100\u001b[39mj, \u001b[38;5;241m-\u001b[39mw:w:\u001b[38;5;241m100\u001b[39mj]\n\u001b[1;32m      5\u001b[0m \u001b[38;5;28;01mfor\u001b[39;00m d \u001b[38;5;129;01min\u001b[39;00m [\u001b[38;5;241m0\u001b[39m, \u001b[38;5;241m0.1\u001b[39m, \u001b[38;5;241m0.5\u001b[39m, \u001b[38;5;241m1\u001b[39m]:\n\u001b[0;32m----> 6\u001b[0m     dSdt \u001b[38;5;241m=\u001b[39m A \u001b[38;5;241m-\u001b[39m d \u001b[38;5;241m*\u001b[39m S \u001b[38;5;241m-\u001b[39m (beta \u001b[38;5;241m*\u001b[39m S \u001b[38;5;241m*\u001b[39m I) \u001b[38;5;241m/\u001b[39m (S \u001b[38;5;241m+\u001b[39m I \u001b[38;5;241m+\u001b[39m \u001b[43mR\u001b[49m)\n\u001b[1;32m      7\u001b[0m     dIdt \u001b[38;5;241m=\u001b[39m \u001b[38;5;241m-\u001b[39m (d \u001b[38;5;241m+\u001b[39m nu) \u001b[38;5;241m*\u001b[39m I \u001b[38;5;241m-\u001b[39m m \u001b[38;5;241m*\u001b[39m I \u001b[38;5;241m+\u001b[39m (beta \u001b[38;5;241m*\u001b[39m S \u001b[38;5;241m*\u001b[39m I) \u001b[38;5;241m/\u001b[39m (S \u001b[38;5;241m+\u001b[39m I \u001b[38;5;241m+\u001b[39m R)\n\u001b[1;32m      9\u001b[0m     fig \u001b[38;5;241m=\u001b[39m plt\u001b[38;5;241m.\u001b[39mfigure(figsize\u001b[38;5;241m=\u001b[39m(\u001b[38;5;241m10\u001b[39m, \u001b[38;5;241m20\u001b[39m))\n",
      "\u001b[0;31mNameError\u001b[0m: name 'R' is not defined"
     ]
    }
   ],
   "source": [
    "#S, I = np.linspace(2,2, 100), np.linspace(2,2, 100)\n",
    "w = 3\n",
    "I, S = np.mgrid[-w:w:100j, -w:w:100j]\n",
    "\n",
    "for d in [0, 0.1, 0.5, 1]:\n",
    "    dSdt = A - d * S - (beta * S * I) / (S + I + R)\n",
    "    dIdt = - (d + nu) * I - m * I + (beta * S * I) / (S + I + R)\n",
    "    \n",
    "    fig = plt.figure(figsize=(10, 20))\n",
    "    gs = gridspec.GridSpec(nrows=3, ncols=2, height_ratios=[1, 1, 2])\n",
    "\n",
    "    #  Varying density along a streamline\n",
    "    ax0 = fig.add_subplot(gs[0, 0])\n",
    "    ax0.streamplot(s, i, dSdt, dIdt, density=[1])\n",
    "    ax0.set_title(\"death rate =\" + f\"{d:.2f}\")"
   ]
  },
  {
   "cell_type": "code",
   "execution_count": 8,
   "id": "341be0f4-7e81-4169-9c03-a52b6564894c",
   "metadata": {},
   "outputs": [
    {
     "ename": "NameError",
     "evalue": "name 'dSdt' is not defined",
     "output_type": "error",
     "traceback": [
      "\u001b[0;31m---------------------------------------------------------------------------\u001b[0m",
      "\u001b[0;31mNameError\u001b[0m                                 Traceback (most recent call last)",
      "Input \u001b[0;32mIn [8]\u001b[0m, in \u001b[0;36m<cell line: 6>\u001b[0;34m()\u001b[0m\n\u001b[1;32m      1\u001b[0m plt\u001b[38;5;241m.\u001b[39mfigure(figsize\u001b[38;5;241m=\u001b[39m(\u001b[38;5;241m3\u001b[39m, \u001b[38;5;241m3\u001b[39m))\n\u001b[1;32m      2\u001b[0m \u001b[38;5;66;03m# gs = gridspec.GridSpec(nrows=3, ncols=2, height_ratios=[1, 1, 2])\u001b[39;00m\n\u001b[1;32m      3\u001b[0m \n\u001b[1;32m      4\u001b[0m \u001b[38;5;66;03m#  Varying density along a streamline\u001b[39;00m\n\u001b[1;32m      5\u001b[0m \u001b[38;5;66;03m# ax0 = fig.add_subplot(gs[0, 0])\u001b[39;00m\n\u001b[0;32m----> 6\u001b[0m plt\u001b[38;5;241m.\u001b[39mstreamplot(s, i, \u001b[43mdSdt\u001b[49m, dIdt, density\u001b[38;5;241m=\u001b[39m[\u001b[38;5;241m1\u001b[39m])\n\u001b[1;32m      7\u001b[0m \u001b[38;5;66;03m# ax0.streamplot(S, I, dSdt, dIdt, color='red', density=[0.5, 1])\u001b[39;00m\n\u001b[1;32m      8\u001b[0m \u001b[38;5;66;03m# ax0.set_title('Hopf Bifurcation')\u001b[39;00m\n\u001b[1;32m      9\u001b[0m plt\u001b[38;5;241m.\u001b[39mshow(\u001b[38;5;28;01mFalse\u001b[39;00m)\n",
      "\u001b[0;31mNameError\u001b[0m: name 'dSdt' is not defined"
     ]
    },
    {
     "data": {
      "text/plain": [
       "<Figure size 216x216 with 0 Axes>"
      ]
     },
     "metadata": {},
     "output_type": "display_data"
    }
   ],
   "source": [
    "plt.figure(figsize=(3, 3))\n",
    "# gs = gridspec.GridSpec(nrows=3, ncols=2, height_ratios=[1, 1, 2])\n",
    "\n",
    "#  Varying density along a streamline\n",
    "# ax0 = fig.add_subplot(gs[0, 0])\n",
    "plt.streamplot(s, i, dSdt, dIdt, density=[1])\n",
    "# ax0.streamplot(S, I, dSdt, dIdt, color='red', density=[0.5, 1])\n",
    "# ax0.set_title('Hopf Bifurcation')\n",
    "plt.show(False)"
   ]
  },
  {
   "cell_type": "markdown",
   "id": "269667ad",
   "metadata": {},
   "source": [
    "## Hopf Bifurcation for SIR"
   ]
  },
  {
   "cell_type": "markdown",
   "id": "9a054793-38a0-4fcc-867d-c542926e17b3",
   "metadata": {},
   "source": [
    "    \"\"\"\n",
    "    SIR model including hospitalization and natural death.\n",
    "\n",
    "    Parameters:\n",
    "    -----------\n",
    "    mu0\n",
    "        Minimum recovery rate\n",
    "    mu1\n",
    "        Maximum recovery rate\n",
    "    beta\n",
    "        average number of adequate contacts per unit time with infectious individuals\n",
    "    A\n",
    "        recruitment rate of susceptibles (e.g. birth rate)\n",
    "    d\n",
    "        natural death rate\n",
    "    nu\n",
    "        disease induced death rate\n",
    "    b\n",
    "        hospital beds per 10,000 persons\n",
    "    \"\"\""
   ]
  }
 ],
 "metadata": {
  "kernelspec": {
   "display_name": "Python 3 (ipykernel)",
   "language": "python",
   "name": "python3"
  },
  "language_info": {
   "codemirror_mode": {
    "name": "ipython",
    "version": 3
   },
   "file_extension": ".py",
   "mimetype": "text/x-python",
   "name": "python",
   "nbconvert_exporter": "python",
   "pygments_lexer": "ipython3",
   "version": "3.8.8"
  }
 },
 "nbformat": 4,
 "nbformat_minor": 5
}
