{
 "cells": [
  {
   "cell_type": "markdown",
   "id": "2c8e2cd9",
   "metadata": {},
   "source": [
    "## Import dependencies"
   ]
  },
  {
   "cell_type": "code",
   "execution_count": 29,
   "id": "10d5e50b-9fb8-4bad-8961-79e2f3098465",
   "metadata": {},
   "outputs": [],
   "source": [
    "from src.bifurcation import *\n",
    "from scipy.integrate import solve_ivp\n",
    "import matplotlib.pyplot as plt\n",
    "import matplotlib.gridspec as gridspec\n",
    "import numpy as np\n",
    "import math"
   ]
  },
  {
   "cell_type": "markdown",
   "id": "afac672c-fd01-4e42-8715-f15d22b2265e",
   "metadata": {},
   "source": [
    "## Create Phase Portraits"
   ]
  },
  {
   "cell_type": "markdown",
   "id": "72c7e0ac-b6f8-4ca8-b1e0-5a1a3e791dae",
   "metadata": {},
   "source": [
    "Set some values to align with other previous tasks"
   ]
  },
  {
   "cell_type": "code",
   "execution_count": 30,
   "id": "dd3e5a6d-f3de-4a0a-afad-cfb4e0332820",
   "metadata": {},
   "outputs": [],
   "source": [
    "t_0 = 0\n",
    "t_end = 200\n",
    "\n",
    "beta=11.5\n",
    "A=20\n",
    "d=0.1\n",
    "nu=1\n",
    "b=0.022\n",
    "mu0 = 10      \n",
    "mu1 = 10.45\n",
    "y0 = [195.3, 0.052, 4.4]"
   ]
  },
  {
   "cell_type": "markdown",
   "id": "833fd470-6e16-48b3-901f-8a105d0093be",
   "metadata": {},
   "source": [
    "Use bifurcation.py to call normal form based on approach of Lu and Huang to account for psychological effects"
   ]
  },
  {
   "cell_type": "code",
   "execution_count": 32,
   "id": "d2374d09-4692-43a8-8dcf-07c24abd0ecc",
   "metadata": {},
   "outputs": [
    {
     "ename": "NameError",
     "evalue": "name 'math' is not defined",
     "output_type": "error",
     "traceback": [
      "\u001B[0;31m---------------------------------------------------------------------------\u001B[0m",
      "\u001B[0;31mNameError\u001B[0m                                 Traceback (most recent call last)",
      "\u001B[0;32m/var/folders/35/y675mkgj2gn_wsnzv1wgvr1c0000gn/T/ipykernel_11927/3641910225.py\u001B[0m in \u001B[0;36m<module>\u001B[0;34m\u001B[0m\n\u001B[1;32m      9\u001B[0m \u001B[0;34m\u001B[0m\u001B[0m\n\u001B[1;32m     10\u001B[0m \u001B[0;31m# Andronov_Hopf normal form\u001B[0m\u001B[0;34m\u001B[0m\u001B[0;34m\u001B[0m\u001B[0m\n\u001B[0;32m---> 11\u001B[0;31m \u001B[0mnormalforms\u001B[0m \u001B[0;34m=\u001B[0m \u001B[0mnormalform\u001B[0m\u001B[0;34m(\u001B[0m\u001B[0mx\u001B[0m\u001B[0;34m,\u001B[0m \u001B[0my\u001B[0m\u001B[0;34m,\u001B[0m \u001B[0malpha\u001B[0m\u001B[0;34m,\u001B[0m \u001B[0mmu0\u001B[0m\u001B[0;34m,\u001B[0m \u001B[0mmu1\u001B[0m\u001B[0;34m,\u001B[0m \u001B[0mb\u001B[0m\u001B[0;34m,\u001B[0m \u001B[0my\u001B[0m\u001B[0;34m)\u001B[0m\u001B[0;34m\u001B[0m\u001B[0;34m\u001B[0m\u001B[0m\n\u001B[0m\u001B[1;32m     12\u001B[0m \u001B[0mu\u001B[0m \u001B[0;34m=\u001B[0m \u001B[0my\u001B[0m \u001B[0;34m+\u001B[0m \u001B[0mnormalforms\u001B[0m\u001B[0;34m[\u001B[0m\u001B[0;36m0\u001B[0m\u001B[0;34m]\u001B[0m\u001B[0;34m\u001B[0m\u001B[0;34m\u001B[0m\u001B[0m\n\u001B[1;32m     13\u001B[0m \u001B[0mv\u001B[0m \u001B[0;34m=\u001B[0m \u001B[0;34m-\u001B[0m\u001B[0mx\u001B[0m \u001B[0;34m+\u001B[0m \u001B[0mnormalforms\u001B[0m\u001B[0;34m[\u001B[0m\u001B[0;36m1\u001B[0m\u001B[0;34m]\u001B[0m\u001B[0;34m\u001B[0m\u001B[0;34m\u001B[0m\u001B[0m\n",
      "\u001B[0;32m~/MLCMS/MLCMS_Final-Project/src/bifurcation.py\u001B[0m in \u001B[0;36mnormalform\u001B[0;34m(x, y, alpha, mu0, mu1, b, I)\u001B[0m\n\u001B[1;32m     22\u001B[0m     \u001B[0mk\u001B[0m \u001B[0;34m=\u001B[0m \u001B[0;36m0.5\u001B[0m \u001B[0;31m# k is the infection rate\u001B[0m\u001B[0;34m\u001B[0m\u001B[0;34m\u001B[0m\u001B[0m\n\u001B[1;32m     23\u001B[0m     \u001B[0mm\u001B[0m \u001B[0;34m=\u001B[0m \u001B[0mmu0\u001B[0m \u001B[0;34m+\u001B[0m \u001B[0;34m(\u001B[0m\u001B[0mmu1\u001B[0m \u001B[0;34m-\u001B[0m \u001B[0mmu0\u001B[0m\u001B[0;34m)\u001B[0m \u001B[0;34m*\u001B[0m \u001B[0;34m(\u001B[0m\u001B[0mb\u001B[0m \u001B[0;34m/\u001B[0m \u001B[0;34m(\u001B[0m\u001B[0mI\u001B[0m \u001B[0;34m+\u001B[0m \u001B[0mb\u001B[0m\u001B[0;34m)\u001B[0m\u001B[0;34m)\u001B[0m\u001B[0;34m\u001B[0m\u001B[0;34m\u001B[0m\u001B[0m\n\u001B[0;32m---> 24\u001B[0;31m     \u001B[0mbeta\u001B[0m \u001B[0;34m=\u001B[0m \u001B[0;34m-\u001B[0m\u001B[0;36m2\u001B[0m \u001B[0;34m*\u001B[0m \u001B[0mmath\u001B[0m\u001B[0;34m.\u001B[0m\u001B[0msqrt\u001B[0m\u001B[0;34m(\u001B[0m\u001B[0malpha\u001B[0m\u001B[0;34m)\u001B[0m \u001B[0;31m# beta is greater than the square root of alpha multipled with -2\u001B[0m\u001B[0;34m\u001B[0m\u001B[0;34m\u001B[0m\u001B[0m\n\u001B[0m\u001B[1;32m     25\u001B[0m \u001B[0;34m\u001B[0m\u001B[0m\n\u001B[1;32m     26\u001B[0m     \u001B[0mn\u001B[0m \u001B[0;34m=\u001B[0m \u001B[0malpha\u001B[0m \u001B[0;34m*\u001B[0m \u001B[0;34m(\u001B[0m\u001B[0;34m(\u001B[0m\u001B[0md\u001B[0m \u001B[0;34m+\u001B[0m \u001B[0mlam\u001B[0m\u001B[0;34m)\u001B[0m \u001B[0;34m/\u001B[0m \u001B[0mk\u001B[0m\u001B[0;34m)\u001B[0m\u001B[0;34m\u001B[0m\u001B[0;34m\u001B[0m\u001B[0m\n",
      "\u001B[0;31mNameError\u001B[0m: name 'math' is not defined"
     ]
    }
   ],
   "source": [
    "range_x=(-20, 20)\n",
    "range_y=(-20, 20)\n",
    "num_grid_points=10\n",
    "\n",
    "alpha = 0.5\n",
    "\n",
    "x, y = np.meshgrid(np.linspace(range_x[0], range_x[1], num_grid_points),np.linspace(range_y[0], range_y[1], num_grid_points))\n",
    "u, v = np.zeros_like(x), np.zeros_like(y)\n",
    "\n",
    "# Andronov_Hopf normal form\n",
    "normalforms = normalform(x, y, alpha, mu0, mu1, b, y)\n",
    "u = y + normalforms[0]\n",
    "v = -x + normalforms[1]\n",
    "\n",
    "plt.figure(figsize=(5, 5))\n",
    "plt.streamplot(x, y, u, v, linewidth=2, arrowsize=2, color=u, cmap='autumn')\n",
    "plt.quiver(x, y, u, v)\n",
    "plt.plot(0, 0, marker=\"x\", markersize=20)\n",
    "\n",
    "plt.axis('square')\n",
    "plt.xlabel(\"x1\")\n",
    "plt.ylabel(\"x2\")\n",
    "plt.title(r'$\\alpha={0}$'.format(alpha))\n",
    "\n",
    "plt.show()"
   ]
  },
  {
   "cell_type": "markdown",
   "id": "dfe68d24-3afc-4dd8-81a4-a643cc93bd95",
   "metadata": {},
   "source": [
    "Create various phase diagrams"
   ]
  },
  {
   "cell_type": "code",
   "execution_count": 28,
   "id": "4cebd69e-b6f1-4f5e-a238-e4f411cf83b1",
   "metadata": {},
   "outputs": [
    {
     "ename": "NameError",
     "evalue": "name 'math' is not defined",
     "output_type": "error",
     "traceback": [
      "\u001B[0;31m---------------------------------------------------------------------------\u001B[0m",
      "\u001B[0;31mNameError\u001B[0m                                 Traceback (most recent call last)",
      "\u001B[0;32m/var/folders/35/y675mkgj2gn_wsnzv1wgvr1c0000gn/T/ipykernel_11927/1042101965.py\u001B[0m in \u001B[0;36m<module>\u001B[0;34m\u001B[0m\n\u001B[1;32m      5\u001B[0m \u001B[0;34m\u001B[0m\u001B[0m\n\u001B[1;32m      6\u001B[0m     \u001B[0;31m# Andronov_Hopf normal form\u001B[0m\u001B[0;34m\u001B[0m\u001B[0;34m\u001B[0m\u001B[0m\n\u001B[0;32m----> 7\u001B[0;31m     \u001B[0mnormalforms\u001B[0m \u001B[0;34m=\u001B[0m \u001B[0mnormalform\u001B[0m\u001B[0;34m(\u001B[0m\u001B[0mx\u001B[0m\u001B[0;34m,\u001B[0m \u001B[0my\u001B[0m\u001B[0;34m,\u001B[0m \u001B[0malpha\u001B[0m\u001B[0;34m,\u001B[0m \u001B[0mmu0\u001B[0m\u001B[0;34m,\u001B[0m \u001B[0mmu1\u001B[0m\u001B[0;34m,\u001B[0m \u001B[0mb\u001B[0m\u001B[0;34m,\u001B[0m \u001B[0my\u001B[0m\u001B[0;34m)\u001B[0m\u001B[0;34m\u001B[0m\u001B[0;34m\u001B[0m\u001B[0m\n\u001B[0m\u001B[1;32m      8\u001B[0m     \u001B[0mu\u001B[0m \u001B[0;34m=\u001B[0m \u001B[0my\u001B[0m \u001B[0;34m+\u001B[0m \u001B[0mnormalforms\u001B[0m\u001B[0;34m[\u001B[0m\u001B[0;36m0\u001B[0m\u001B[0;34m]\u001B[0m\u001B[0;34m\u001B[0m\u001B[0;34m\u001B[0m\u001B[0m\n\u001B[1;32m      9\u001B[0m     \u001B[0mv\u001B[0m \u001B[0;34m=\u001B[0m \u001B[0;34m-\u001B[0m\u001B[0mx\u001B[0m \u001B[0;34m+\u001B[0m \u001B[0mnormalforms\u001B[0m\u001B[0;34m[\u001B[0m\u001B[0;36m1\u001B[0m\u001B[0;34m]\u001B[0m\u001B[0;34m\u001B[0m\u001B[0;34m\u001B[0m\u001B[0m\n",
      "\u001B[0;32m~/MLCMS/MLCMS_Final-Project/src/bifurcation.py\u001B[0m in \u001B[0;36mnormalform\u001B[0;34m(x, y, alpha, mu0, mu1, b, I)\u001B[0m\n\u001B[1;32m     22\u001B[0m     \u001B[0mk\u001B[0m \u001B[0;34m=\u001B[0m \u001B[0;36m0.5\u001B[0m \u001B[0;31m# k is the infection rate\u001B[0m\u001B[0;34m\u001B[0m\u001B[0;34m\u001B[0m\u001B[0m\n\u001B[1;32m     23\u001B[0m     \u001B[0mm\u001B[0m \u001B[0;34m=\u001B[0m \u001B[0mmu0\u001B[0m \u001B[0;34m+\u001B[0m \u001B[0;34m(\u001B[0m\u001B[0mmu1\u001B[0m \u001B[0;34m-\u001B[0m \u001B[0mmu0\u001B[0m\u001B[0;34m)\u001B[0m \u001B[0;34m*\u001B[0m \u001B[0;34m(\u001B[0m\u001B[0mb\u001B[0m \u001B[0;34m/\u001B[0m \u001B[0;34m(\u001B[0m\u001B[0mI\u001B[0m \u001B[0;34m+\u001B[0m \u001B[0mb\u001B[0m\u001B[0;34m)\u001B[0m\u001B[0;34m)\u001B[0m\u001B[0;34m\u001B[0m\u001B[0;34m\u001B[0m\u001B[0m\n\u001B[0;32m---> 24\u001B[0;31m     \u001B[0mbeta\u001B[0m \u001B[0;34m=\u001B[0m \u001B[0;34m-\u001B[0m\u001B[0;36m2\u001B[0m \u001B[0;34m*\u001B[0m \u001B[0mmath\u001B[0m\u001B[0;34m.\u001B[0m\u001B[0msqrt\u001B[0m\u001B[0;34m(\u001B[0m\u001B[0malpha\u001B[0m\u001B[0;34m)\u001B[0m \u001B[0;31m# beta is greater than the square root of alpha multipled with -2\u001B[0m\u001B[0;34m\u001B[0m\u001B[0;34m\u001B[0m\u001B[0m\n\u001B[0m\u001B[1;32m     25\u001B[0m \u001B[0;34m\u001B[0m\u001B[0m\n\u001B[1;32m     26\u001B[0m     \u001B[0mn\u001B[0m \u001B[0;34m=\u001B[0m \u001B[0malpha\u001B[0m \u001B[0;34m*\u001B[0m \u001B[0;34m(\u001B[0m\u001B[0;34m(\u001B[0m\u001B[0md\u001B[0m \u001B[0;34m+\u001B[0m \u001B[0mlam\u001B[0m\u001B[0;34m)\u001B[0m \u001B[0;34m/\u001B[0m \u001B[0mk\u001B[0m\u001B[0;34m)\u001B[0m\u001B[0;34m\u001B[0m\u001B[0;34m\u001B[0m\u001B[0m\n",
      "\u001B[0;31mNameError\u001B[0m: name 'math' is not defined"
     ]
    }
   ],
   "source": [
    "list_alpha = [0.5,1,2]\n",
    "for alpha in list_alpha :  \n",
    "    x, y = np.meshgrid(np.linspace(range_x[0], range_x[1], num_grid_points),np.linspace(range_y[0], range_y[1], num_grid_points))\n",
    "    u, v = np.zeros_like(x), np.zeros_like(y)\n",
    "\n",
    "    # Andronov_Hopf normal form\n",
    "    normalforms = normalform(x, y, alpha, mu0, mu1, b, y)\n",
    "    u = y + normalforms[0]\n",
    "    v = -x + normalforms[1]\n",
    "    \n",
    "    # draw the plot\n",
    "    fig1 = plt.figure(figsize=(5, 5))\n",
    "    plt.streamplot(x, y, u, v, linewidth=2, arrowsize=2, color=u, cmap='autumn')\n",
    "    plt.quiver(x, y, u, v)\n",
    "    plt.plot(0, 0, marker=\"x\", markersize=20)\n",
    "\n",
    "    plt.axis('square')\n",
    "    plt.title(r'$\\alpha={0}$'.format(alpha))\n",
    "\n",
    "    plt.show()"
   ]
  },
  {
   "cell_type": "code",
   "execution_count": null,
   "id": "c11c4f68-8991-4a12-82be-2992bbddaaed",
   "metadata": {},
   "outputs": [],
   "source": []
  }
 ],
 "metadata": {
  "kernelspec": {
   "display_name": "Python 3 (ipykernel)",
   "language": "python",
   "name": "python3"
  },
  "language_info": {
   "codemirror_mode": {
    "name": "ipython",
    "version": 3
   },
   "file_extension": ".py",
   "mimetype": "text/x-python",
   "name": "python",
   "nbconvert_exporter": "python",
   "pygments_lexer": "ipython3",
   "version": "3.9.7"
  }
 },
 "nbformat": 4,
 "nbformat_minor": 5
}