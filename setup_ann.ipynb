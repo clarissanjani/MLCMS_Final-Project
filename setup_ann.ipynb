{
 "cells": [
  {
   "cell_type": "code",
   "execution_count": 3,
   "metadata": {},
   "outputs": [
    {
     "name": "stdout",
     "output_type": "stream",
     "text": [
      "TensorFlow version: 2.9.1\n",
      "Model: \"grayboxann\"\n",
      "_________________________________________________________________\n",
      " Layer (type)                Output Shape              Param #   \n",
      "=================================================================\n",
      " hiddenlayer1 (Dense)        (None, 10)                40        \n",
      "                                                                 \n",
      " hiddenlayer2 (Dense)        (None, 10)                110       \n",
      "                                                                 \n",
      " outputlayer (Dense)         (None, 1)                 11        \n",
      "                                                                 \n",
      "=================================================================\n",
      "Total params: 161\n",
      "Trainable params: 161\n",
      "Non-trainable params: 0\n",
      "_________________________________________________________________\n"
     ]
    },
    {
     "name": "stderr",
     "output_type": "stream",
     "text": [
      "2022-07-25 11:05:03.547119: I tensorflow/core/platform/cpu_feature_guard.cc:193] This TensorFlow binary is optimized with oneAPI Deep Neural Network Library (oneDNN) to use the following CPU instructions in performance-critical operations:  AVX2 FMA\n",
      "To enable them in other operations, rebuild TensorFlow with the appropriate compiler flags.\n"
     ]
    },
    {
     "name": "stdout",
     "output_type": "stream",
     "text": [
      "Epoch 1/5\n",
      "16/16 [==============================] - 1s 2ms/step - loss: -44.8139 - Accuracy: 0.0000e+00 - precision: 1.0000 - recall: 1.0000\n",
      "Epoch 2/5\n",
      "16/16 [==============================] - 0s 3ms/step - loss: -116.7469 - Accuracy: 0.0000e+00 - precision: 1.0000 - recall: 1.0000\n",
      "Epoch 3/5\n",
      "16/16 [==============================] - 0s 2ms/step - loss: -193.4263 - Accuracy: 0.0000e+00 - precision: 1.0000 - recall: 1.0000\n",
      "Epoch 4/5\n",
      "16/16 [==============================] - 0s 2ms/step - loss: -285.7154 - Accuracy: 0.0000e+00 - precision: 1.0000 - recall: 1.0000\n",
      "Epoch 5/5\n",
      "16/16 [==============================] - 0s 3ms/step - loss: -400.1448 - Accuracy: 0.0000e+00 - precision: 1.0000 - recall: 1.0000\n"
     ]
    }
   ],
   "source": [
    "from src.neural_network import *\n",
    "\n",
    "ann = NeuralNetwork()\n",
    "ann.import_data('data/SIR.csv')\n",
    "ann.fit()"
   ]
  },
  {
   "cell_type": "code",
   "execution_count": 4,
   "metadata": {},
   "outputs": [
    {
     "name": "stdout",
     "output_type": "stream",
     "text": [
      "2/2 - 0s - loss: -4.6591e+02 - Accuracy: 0.0000e+00 - precision: 1.0000 - recall: 1.0000 - 364ms/epoch - 182ms/step\n"
     ]
    },
    {
     "data": {
      "text/plain": [
       "[-465.90509033203125, 0.0, 1.0, 1.0]"
      ]
     },
     "execution_count": 4,
     "metadata": {},
     "output_type": "execute_result"
    }
   ],
   "source": [
    "ann.model.evaluate(ann.x_test, ann.y_test, verbose=2)"
   ]
  },
  {
   "cell_type": "code",
   "execution_count": 5,
   "metadata": {},
   "outputs": [
    {
     "name": "stdout",
     "output_type": "stream",
     "text": [
      "5/5 [==============================] - 0s 2ms/step\n",
      "2/2 [==============================] - 0s 2ms/step\n"
     ]
    }
   ],
   "source": [
    "x1, x2 = ann.predict()"
   ]
  },
  {
   "cell_type": "code",
   "execution_count": null,
   "metadata": {},
   "outputs": [],
   "source": []
  },
  {
   "cell_type": "code",
   "execution_count": null,
   "metadata": {},
   "outputs": [],
   "source": []
  }
 ],
 "metadata": {
  "kernelspec": {
   "display_name": "Python 3 (ipykernel)",
   "language": "python",
   "name": "python3"
  },
  "language_info": {
   "codemirror_mode": {
    "name": "ipython",
    "version": 3
   },
   "file_extension": ".py",
   "mimetype": "text/x-python",
   "name": "python",
   "nbconvert_exporter": "python",
   "pygments_lexer": "ipython3",
   "version": "3.10.4"
  }
 },
 "nbformat": 4,
 "nbformat_minor": 4
}
