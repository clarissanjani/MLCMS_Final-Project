{
 "cells": [
  {
   "cell_type": "code",
   "execution_count": 4,
   "metadata": {},
   "outputs": [
    {
     "name": "stdout",
     "output_type": "stream",
     "text": [
      "Model: \"grayboxann\"\n",
      "_________________________________________________________________\n",
      " Layer (type)                Output Shape              Param #   \n",
      "=================================================================\n",
      " hiddenlayer1 (Dense)        (None, 10)                40        \n",
      "                                                                 \n",
      " hiddenlayer2 (Dense)        (None, 10)                110       \n",
      "                                                                 \n",
      " outputlayer (Dense)         (None, 1)                 11        \n",
      "                                                                 \n",
      "=================================================================\n",
      "Total params: 161\n",
      "Trainable params: 161\n",
      "Non-trainable params: 0\n",
      "_________________________________________________________________\n",
      "Epoch 1/3\n",
      "16/16 [==============================] - 1s 1ms/step - loss: -405.9853 - Accuracy: 0.0000e+00 - precision: 1.0000 - recall: 1.0000\n",
      "Epoch 2/3\n",
      "16/16 [==============================] - 0s 1ms/step - loss: -507.2676 - Accuracy: 0.0000e+00 - precision: 1.0000 - recall: 1.0000\n",
      "Epoch 3/3\n",
      "16/16 [==============================] - 0s 2ms/step - loss: -613.4043 - Accuracy: 0.0000e+00 - precision: 1.0000 - recall: 1.0000\n"
     ]
    }
   ],
   "source": [
    "from src.neural_network import *\n",
    "\n",
    "ann = NeuralNetwork()\n",
    "ann.import_data('data/SIR.csv')\n",
    "ann.fit()"
   ]
  },
  {
   "cell_type": "code",
   "execution_count": 5,
   "metadata": {},
   "outputs": [
    {
     "name": "stdout",
     "output_type": "stream",
     "text": [
      "2/2 - 0s - loss: -6.7250e+02 - Accuracy: 0.0000e+00 - precision: 1.0000 - recall: 1.0000 - 324ms/epoch - 162ms/step\n"
     ]
    },
    {
     "data": {
      "text/plain": [
       "[-672.49951171875, 0.0, 1.0, 1.0]"
      ]
     },
     "execution_count": 5,
     "metadata": {},
     "output_type": "execute_result"
    }
   ],
   "source": [
    "ann.model.evaluate(ann.x_test, ann.y_test, verbose=2)"
   ]
  },
  {
   "cell_type": "code",
   "execution_count": null,
   "metadata": {},
   "outputs": [],
   "source": [
    "x1, x2 = ann.predict()"
   ]
  },
  {
   "cell_type": "code",
   "execution_count": null,
   "metadata": {},
   "outputs": [],
   "source": []
  },
  {
   "cell_type": "code",
   "execution_count": null,
   "metadata": {},
   "outputs": [],
   "source": []
  }
 ],
 "metadata": {
  "kernelspec": {
   "display_name": "tf",
   "language": "python",
   "name": "tf"
  },
  "language_info": {
   "codemirror_mode": {
    "name": "ipython",
    "version": 3
   },
   "file_extension": ".py",
   "mimetype": "text/x-python",
   "name": "python",
   "nbconvert_exporter": "python",
   "pygments_lexer": "ipython3",
   "version": "3.9.12"
  }
 },
 "nbformat": 4,
 "nbformat_minor": 4
}
