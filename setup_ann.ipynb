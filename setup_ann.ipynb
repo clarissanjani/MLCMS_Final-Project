{
 "cells": [
  {
   "cell_type": "code",
   "execution_count": 1,
   "metadata": {},
   "outputs": [
    {
     "name": "stdout",
     "output_type": "stream",
     "text": [
      "TensorFlow version: 2.9.1\n",
      "Model: \"grayboxann\"\n",
      "_________________________________________________________________\n",
      " Layer (type)                Output Shape              Param #   \n",
      "=================================================================\n",
      " hiddenlayer1 (Dense)        (None, 4)                 16        \n",
      "                                                                 \n",
      " hiddenlayer2 (Dense)        (None, 4)                 20        \n",
      "                                                                 \n",
      " outputlayer (Dense)         (None, 1)                 5         \n",
      "                                                                 \n",
      "=================================================================\n",
      "Total params: 41\n",
      "Trainable params: 41\n",
      "Non-trainable params: 0\n",
      "_________________________________________________________________\n",
      "Epoch 1/3\n",
      " 44/160 [=======>......................] - ETA: 0s - loss: 75.1331 - Accuracy: 0.0000e+00 - precision: 0.0000e+00 - recall: 0.0000e+00   WARNING:tensorflow:Your input ran out of data; interrupting training. Make sure that your dataset or generator can generate at least `steps_per_epoch * epochs` batches (in this case, 480 batches). You may need to use the repeat() function when building your dataset.\n",
      "160/160 [==============================] - 3s 8ms/step - loss: 69.8723 - Accuracy: 0.0000e+00 - precision: 0.0000e+00 - recall: 0.0000e+00\n"
     ]
    }
   ],
   "source": [
    "from src.neural_network import *\n",
    "\n",
    "ann = NeuralNetwork()\n",
    "ann.import_data('data/SIR.csv')\n",
    "ann.fit()"
   ]
  },
  {
   "cell_type": "code",
   "execution_count": null,
   "metadata": {},
   "outputs": [],
   "source": []
  }
 ],
 "metadata": {
  "kernelspec": {
   "display_name": "tf",
   "language": "python",
   "name": "tf"
  },
  "language_info": {
   "codemirror_mode": {
    "name": "ipython",
    "version": 3
   },
   "file_extension": ".py",
   "mimetype": "text/x-python",
   "name": "python",
   "nbconvert_exporter": "python",
   "pygments_lexer": "ipython3",
   "version": "3.9.12"
  }
 },
 "nbformat": 4,
 "nbformat_minor": 4
}
