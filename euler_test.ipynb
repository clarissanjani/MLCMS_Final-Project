{
 "cells": [
  {
   "cell_type": "markdown",
   "id": "f2a2db6f-c72b-47bf-863e-6505ae203b20",
   "metadata": {},
   "source": [
    "## Euler method for a generic function"
   ]
  },
  {
   "cell_type": "code",
   "execution_count": 2,
   "id": "7da64359-7ab6-4c65-8fcc-96f14020bd0d",
   "metadata": {},
   "outputs": [],
   "source": [
    "from integration import *\n",
    "import matplotlib.pyplot as plt"
   ]
  },
  {
   "cell_type": "code",
   "execution_count": 3,
   "id": "1212ee6f-9a9c-4bac-9c75-9f155d504b1f",
   "metadata": {},
   "outputs": [
    {
     "data": {
      "image/png": "[encoded data removed]",
      "text/plain": [
       "<Figure size 432x288 with 1 Axes>"
      ]
     },
     "metadata": {
      "needs_background": "light"
     },
     "output_type": "display_data"
    }
   ],
   "source": [
    "t = np.linspace(0,2,30)\n",
    "y0 = 2\n",
    "\n",
    "f = lambda y,t: y\n",
    "y = euler(f,y0,t)\n",
    "\n",
    "y_function = np.exp(t)\n",
    "\n",
    "plt.plot(t,y,'b.-',t,y_function)\n",
    "plt.legend(['Euler','True'])\n",
    "plt.axis([0,2,0,9])\n",
    "plt.grid(True)\n",
    "plt.title(\"Solution of $y'=y , y(0)=1$\")\n",
    "plt.show()"
   ]
  },
  {
   "cell_type": "markdown",
   "id": "c5d42080-2555-483c-9f8c-0fe68cdc7698",
   "metadata": {},
   "source": [
    "## Euler method for SIR"
   ]
  },
  {
   "cell_type": "code",
   "execution_count": 6,
   "id": "61c28af2-c71b-43c7-8a4a-1a19ab497f0e",
   "metadata": {},
   "outputs": [
    {
     "ename": "TypeError",
     "evalue": "'float' object is not callable",
     "output_type": "error",
     "traceback": [
      "\u001b[0;31m---------------------------------------------------------------------------\u001b[0m",
      "\u001b[0;31mTypeError\u001b[0m                                 Traceback (most recent call last)",
      "Input \u001b[0;32mIn [6]\u001b[0m, in \u001b[0;36m<cell line: 16>\u001b[0;34m()\u001b[0m\n\u001b[1;32m     12\u001b[0m t \u001b[38;5;241m=\u001b[39m np\u001b[38;5;241m.\u001b[39mlinspace(\u001b[38;5;241m0\u001b[39m,\u001b[38;5;241m2\u001b[39m,\u001b[38;5;241m30\u001b[39m)\n\u001b[1;32m     14\u001b[0m f \u001b[38;5;241m=\u001b[39m dsdt(A, d, beta, y0[\u001b[38;5;241m0\u001b[39m], y0[\u001b[38;5;241m1\u001b[39m], y0[\u001b[38;5;241m2\u001b[39m])\n\u001b[0;32m---> 16\u001b[0m y \u001b[38;5;241m=\u001b[39m \u001b[43meuler\u001b[49m\u001b[43m(\u001b[49m\u001b[43mf\u001b[49m\u001b[43m,\u001b[49m\u001b[43my0\u001b[49m\u001b[43m[\u001b[49m\u001b[38;5;241;43m0\u001b[39;49m\u001b[43m]\u001b[49m\u001b[43m,\u001b[49m\u001b[43mt\u001b[49m\u001b[43m)\u001b[49m\n\u001b[1;32m     18\u001b[0m plt\u001b[38;5;241m.\u001b[39mplot(t, f,\u001b[38;5;124m'\u001b[39m\u001b[38;5;124mb.-\u001b[39m\u001b[38;5;124m'\u001b[39m,t,y_function)\n\u001b[1;32m     19\u001b[0m plt\u001b[38;5;241m.\u001b[39mlegend([\u001b[38;5;124m'\u001b[39m\u001b[38;5;124mEuler\u001b[39m\u001b[38;5;124m'\u001b[39m,\u001b[38;5;124m'\u001b[39m\u001b[38;5;124mTrue\u001b[39m\u001b[38;5;124m'\u001b[39m])\n",
      "File \u001b[0;32m~/Documents/TUM/Master4/MLCMS/MLCMS_Final-Project/integration.py:11\u001b[0m, in \u001b[0;36meuler\u001b[0;34m(f, y0, t)\u001b[0m\n\u001b[1;32m      9\u001b[0m y[\u001b[38;5;241m0\u001b[39m] \u001b[38;5;241m=\u001b[39m y0\n\u001b[1;32m     10\u001b[0m \u001b[38;5;28;01mfor\u001b[39;00m n \u001b[38;5;129;01min\u001b[39;00m \u001b[38;5;28mrange\u001b[39m(\u001b[38;5;241m0\u001b[39m, \u001b[38;5;28mlen\u001b[39m(t) \u001b[38;5;241m-\u001b[39m \u001b[38;5;241m1\u001b[39m):\n\u001b[0;32m---> 11\u001b[0m     y[n\u001b[38;5;241m+\u001b[39m\u001b[38;5;241m1\u001b[39m] \u001b[38;5;241m=\u001b[39m y[n] \u001b[38;5;241m+\u001b[39m \u001b[43mf\u001b[49m\u001b[43m(\u001b[49m\u001b[43my\u001b[49m\u001b[43m[\u001b[49m\u001b[43mn\u001b[49m\u001b[43m]\u001b[49m\u001b[43m,\u001b[49m\u001b[43m \u001b[49m\u001b[43mt\u001b[49m\u001b[43m[\u001b[49m\u001b[43mn\u001b[49m\u001b[43m]\u001b[49m\u001b[43m)\u001b[49m \u001b[38;5;241m*\u001b[39m (t[n\u001b[38;5;241m+\u001b[39m\u001b[38;5;241m1\u001b[39m] \u001b[38;5;241m-\u001b[39m t[n])\n\u001b[1;32m     12\u001b[0m \u001b[38;5;28;01mreturn\u001b[39;00m y\n",
      "\u001b[0;31mTypeError\u001b[0m: 'float' object is not callable"
     ]
    }
   ],
   "source": [
    "from model import *\n",
    "\n",
    "beta=11.5\n",
    "A=20\n",
    "d=0.1\n",
    "nu=1\n",
    "b=0.022\n",
    "mu0 = 10      \n",
    "mu1 = 10.45\n",
    "y0 = [195.3, 0.052, 4.4]\n",
    "\n",
    "t = np.linspace(0,2,30)\n",
    "\n",
    "f = dsdt(A, d, beta, y0[0], y0[1], y0[2])\n",
    "\n",
    "y = euler(f,y0[0],t)\n",
    "\n",
    "plt.plot(t, f,'b.-',t,y_function)\n",
    "plt.legend(['Euler','True'])\n",
    "plt.axis([0,2,0,9])\n",
    "plt.grid(True)\n",
    "plt.title(\"Solution of $y'=y , y(0)=1$\")\n",
    "plt.show()"
   ]
  },
  {
   "cell_type": "code",
   "execution_count": null,
   "id": "cf0592b1-17ba-4bb5-a3fa-aa8bc3013310",
   "metadata": {},
   "outputs": [],
   "source": []
  }
 ],
 "metadata": {
  "kernelspec": {
   "display_name": "Python 3 (ipykernel)",
   "language": "python",
   "name": "python3"
  },
  "language_info": {
   "codemirror_mode": {
    "name": "ipython",
    "version": 3
   },
   "file_extension": ".py",
   "mimetype": "text/x-python",
   "name": "python",
   "nbconvert_exporter": "python",
   "pygments_lexer": "ipython3",
   "version": "3.8.8"
  }
 },
 "nbformat": 4,
 "nbformat_minor": 5
}
